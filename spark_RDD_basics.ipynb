{
  "nbformat": 4,
  "nbformat_minor": 0,
  "metadata": {
    "colab": {
      "name": "spark_RDD_basics.ipynb",
      "provenance": [],
      "collapsed_sections": [],
      "authorship_tag": "ABX9TyPzd4QEwH6swAH9mwR1pJXf",
      "include_colab_link": true
    },
    "kernelspec": {
      "name": "python3",
      "display_name": "Python 3"
    },
    "language_info": {
      "name": "python"
    }
  },
  "cells": [
    {
      "cell_type": "markdown",
      "metadata": {
        "id": "view-in-github",
        "colab_type": "text"
      },
      "source": [
        "<a href=\"https://colab.research.google.com/github/varunaluri18/pyspark/blob/main/spark_RDD_basics.ipynb\" target=\"_parent\"><img src=\"https://colab.research.google.com/assets/colab-badge.svg\" alt=\"Open In Colab\"/></a>"
      ]
    },
    {
      "cell_type": "code",
      "metadata": {
        "colab": {
          "base_uri": "https://localhost:8080/"
        },
        "id": "9PyGrcDigNf4",
        "outputId": "217b3ba9-a803-4eb7-a29c-f77f3af7ed51"
      },
      "source": [
        "pip install pyspark"
      ],
      "execution_count": 1,
      "outputs": [
        {
          "output_type": "stream",
          "name": "stdout",
          "text": [
            "Collecting pyspark\n",
            "  Downloading pyspark-3.2.0.tar.gz (281.3 MB)\n",
            "\u001b[K     |████████████████████████████████| 281.3 MB 38 kB/s \n",
            "\u001b[?25hCollecting py4j==0.10.9.2\n",
            "  Downloading py4j-0.10.9.2-py2.py3-none-any.whl (198 kB)\n",
            "\u001b[K     |████████████████████████████████| 198 kB 52.0 MB/s \n",
            "\u001b[?25hBuilding wheels for collected packages: pyspark\n",
            "  Building wheel for pyspark (setup.py) ... \u001b[?25l\u001b[?25hdone\n",
            "  Created wheel for pyspark: filename=pyspark-3.2.0-py2.py3-none-any.whl size=281805912 sha256=994e0cbec5d3cc22e4e95c560719d41d6a01e08bc954f5a982d2b1175ec18a5a\n",
            "  Stored in directory: /root/.cache/pip/wheels/0b/de/d2/9be5d59d7331c6c2a7c1b6d1a4f463ce107332b1ecd4e80718\n",
            "Successfully built pyspark\n",
            "Installing collected packages: py4j, pyspark\n",
            "Successfully installed py4j-0.10.9.2 pyspark-3.2.0\n"
          ]
        }
      ]
    },
    {
      "cell_type": "code",
      "metadata": {
        "colab": {
          "base_uri": "https://localhost:8080/",
          "height": 196
        },
        "id": "kSS94rghgTHg",
        "outputId": "a287839c-e90d-4052-d24b-ce5baefc38fc"
      },
      "source": [
        "from pyspark import SparkContext\n",
        "sc = SparkContext.getOrCreate()\n",
        "sc"
      ],
      "execution_count": 2,
      "outputs": [
        {
          "output_type": "execute_result",
          "data": {
            "text/html": [
              "\n",
              "        <div>\n",
              "            <p><b>SparkContext</b></p>\n",
              "\n",
              "            <p><a href=\"http://092a332139f0:4040\">Spark UI</a></p>\n",
              "\n",
              "            <dl>\n",
              "              <dt>Version</dt>\n",
              "                <dd><code>v3.2.0</code></dd>\n",
              "              <dt>Master</dt>\n",
              "                <dd><code>local[*]</code></dd>\n",
              "              <dt>AppName</dt>\n",
              "                <dd><code>pyspark-shell</code></dd>\n",
              "            </dl>\n",
              "        </div>\n",
              "        "
            ],
            "text/plain": [
              "<SparkContext master=local[*] appName=pyspark-shell>"
            ]
          },
          "metadata": {},
          "execution_count": 2
        }
      ]
    },
    {
      "cell_type": "code",
      "metadata": {
        "colab": {
          "base_uri": "https://localhost:8080/",
          "height": 219
        },
        "id": "wmfs5tYvgaLR",
        "outputId": "895cd988-1f2f-48b1-f9a8-72805b7f78a4"
      },
      "source": [
        "import pyspark\n",
        "from pyspark.sql import SparkSession\n",
        "spark =SparkSession.builder.appName('firstprogram').getOrCreate()\n",
        "spark"
      ],
      "execution_count": 39,
      "outputs": [
        {
          "output_type": "execute_result",
          "data": {
            "text/html": [
              "\n",
              "            <div>\n",
              "                <p><b>SparkSession - in-memory</b></p>\n",
              "                \n",
              "        <div>\n",
              "            <p><b>SparkContext</b></p>\n",
              "\n",
              "            <p><a href=\"http://092a332139f0:4040\">Spark UI</a></p>\n",
              "\n",
              "            <dl>\n",
              "              <dt>Version</dt>\n",
              "                <dd><code>v3.2.0</code></dd>\n",
              "              <dt>Master</dt>\n",
              "                <dd><code>local[*]</code></dd>\n",
              "              <dt>AppName</dt>\n",
              "                <dd><code>pyspark-shell</code></dd>\n",
              "            </dl>\n",
              "        </div>\n",
              "        \n",
              "            </div>\n",
              "        "
            ],
            "text/plain": [
              "<pyspark.sql.session.SparkSession at 0x7f1d149dc610>"
            ]
          },
          "metadata": {},
          "execution_count": 39
        }
      ]
    },
    {
      "cell_type": "code",
      "metadata": {
        "colab": {
          "base_uri": "https://localhost:8080/"
        },
        "id": "ufk-Fw36i38c",
        "outputId": "8470f4c5-5e1f-49b2-9ac0-95afbe36f852"
      },
      "source": [
        "print(\"Actions in PySpark RDDs\")\n",
        "print(\"collect,count,first,take,reduce,saveAsTextFile\")"
      ],
      "execution_count": 3,
      "outputs": [
        {
          "output_type": "stream",
          "name": "stdout",
          "text": [
            "Actions in PySpark RDDs\n",
            "collect,count,first,take,reduce,saveAsTextFile\n"
          ]
        }
      ]
    },
    {
      "cell_type": "code",
      "metadata": {
        "colab": {
          "base_uri": "https://localhost:8080/"
        },
        "id": "XCKOeHtHgdjH",
        "outputId": "ee76658a-ef97-4f20-dc43-176e3b9e3c95"
      },
      "source": [
        "print(\".collect() Action\")\n",
        "rdd=sc.parallelize([1,2,3,4,5])\n",
        "print(rdd.collect())"
      ],
      "execution_count": 4,
      "outputs": [
        {
          "output_type": "stream",
          "name": "stdout",
          "text": [
            ".collect() Action\n",
            "[1, 2, 3, 4, 5]\n"
          ]
        }
      ]
    },
    {
      "cell_type": "code",
      "metadata": {
        "colab": {
          "base_uri": "https://localhost:8080/"
        },
        "id": "2o5u6Bl2gyxt",
        "outputId": "3203565b-ba5d-402a-d697-4cac1aa6c077"
      },
      "source": [
        "print(\".count() Action\")\n",
        "rdd=sc.parallelize([1,2,3,4,5,6,7,8,9])\n",
        "print(rdd.count())"
      ],
      "execution_count": 5,
      "outputs": [
        {
          "output_type": "stream",
          "name": "stdout",
          "text": [
            ".count() Action\n",
            "9\n"
          ]
        }
      ]
    },
    {
      "cell_type": "code",
      "metadata": {
        "colab": {
          "base_uri": "https://localhost:8080/"
        },
        "id": "TR-AfUoGhA1s",
        "outputId": "8118642d-b522-41a5-f7d4-8834ddc8515a"
      },
      "source": [
        "print(\".first Action\")\n",
        "rdd=sc.parallelize([1,2,3,4,5,6,7,8,9,10])\n",
        "print(rdd.first())"
      ],
      "execution_count": 6,
      "outputs": [
        {
          "output_type": "stream",
          "name": "stdout",
          "text": [
            ".first Action\n",
            "1\n"
          ]
        }
      ]
    },
    {
      "cell_type": "code",
      "metadata": {
        "colab": {
          "base_uri": "https://localhost:8080/"
        },
        "id": "rqJV43KPhRlz",
        "outputId": "b82dbba2-db0e-49e4-c28f-ac3b8a5c62ae"
      },
      "source": [
        "print(\".take() Action\")\n",
        "rdd=sc.parallelize([1,2,3,4,5])\n",
        "print(rdd.take(5))"
      ],
      "execution_count": 7,
      "outputs": [
        {
          "output_type": "stream",
          "name": "stdout",
          "text": [
            ".take() Action\n",
            "[1, 2, 3, 4, 5]\n"
          ]
        }
      ]
    },
    {
      "cell_type": "code",
      "metadata": {
        "colab": {
          "base_uri": "https://localhost:8080/"
        },
        "id": "MRUqXp-Vhq0v",
        "outputId": "c727f418-906a-4670-a316-c3593cfef622"
      },
      "source": [
        "print(\".reduce() Action\")\n",
        "rdd=sc.parallelize([1,3,4,6])\n",
        "print(rdd.reduce(lambda x, y : x + y))"
      ],
      "execution_count": 8,
      "outputs": [
        {
          "output_type": "stream",
          "name": "stdout",
          "text": [
            ".reduce() Action\n",
            "14\n"
          ]
        }
      ]
    },
    {
      "cell_type": "code",
      "metadata": {
        "colab": {
          "base_uri": "https://localhost:8080/"
        },
        "id": "ROFDJ5MAiTkI",
        "outputId": "0e972478-4c25-4b32-d532-9e1ec8be6117"
      },
      "source": [
        "print(\".saveAsTextFile Action\")\n",
        "rdd=sc.parallelize([1,2,3,4,5,6])\n",
        "rdd.saveAsTextFile('file.txt')"
      ],
      "execution_count": 9,
      "outputs": [
        {
          "output_type": "stream",
          "name": "stdout",
          "text": [
            ".saveAsTextFile Action\n"
          ]
        }
      ]
    },
    {
      "cell_type": "code",
      "metadata": {
        "colab": {
          "base_uri": "https://localhost:8080/"
        },
        "id": "k7d3ak0BiomG",
        "outputId": "142fdcad-6238-445b-d689-153e46ae35c5"
      },
      "source": [
        "print(\"Transformations in PySpark RDDs\")\n",
        "print('')"
      ],
      "execution_count": 10,
      "outputs": [
        {
          "output_type": "stream",
          "name": "stdout",
          "text": [
            "Transformations in PySpark RDDs\n",
            "\n"
          ]
        }
      ]
    },
    {
      "cell_type": "code",
      "metadata": {
        "colab": {
          "base_uri": "https://localhost:8080/"
        },
        "id": "EoKMN_o8i0k4",
        "outputId": "0afe565f-bb7f-47f5-c119-c9178634097b"
      },
      "source": [
        "print(\".map() Transformation\")\n",
        "rdd=sc.parallelize([1,2,3,4])\n",
        "print(rdd.map(lambda x: x+ 10).collect())"
      ],
      "execution_count": 11,
      "outputs": [
        {
          "output_type": "stream",
          "name": "stdout",
          "text": [
            ".map() Transformation\n",
            "[11, 12, 13, 14]\n"
          ]
        }
      ]
    },
    {
      "cell_type": "code",
      "metadata": {
        "colab": {
          "base_uri": "https://localhost:8080/"
        },
        "id": "L3T1EGsWjQVy",
        "outputId": "88c4ecf7-f850-4cc0-d607-b2e6f3cc5737"
      },
      "source": [
        "print(\".filter() Transformation\")\n",
        "rdd = sc.parallelize([2, 3, 4, 5, 6, 7])\n",
        "print(rdd.filter(lambda x: x%2 == 0).collect())"
      ],
      "execution_count": 12,
      "outputs": [
        {
          "output_type": "stream",
          "name": "stdout",
          "text": [
            ".filter() Transformation\n",
            "[2, 4, 6]\n"
          ]
        }
      ]
    },
    {
      "cell_type": "code",
      "metadata": {
        "colab": {
          "base_uri": "https://localhost:8080/"
        },
        "id": "Ku06y1bOjbEV",
        "outputId": "3c92f807-7fa7-42e5-cdd1-4c84b776cc38"
      },
      "source": [
        "rdd=sc.parallelize(['varun','sravani','ishwarya','kaveri','vidya'])\n",
        "print(rdd.filter(lambda x: x.startswith('v')).collect())"
      ],
      "execution_count": 13,
      "outputs": [
        {
          "output_type": "stream",
          "name": "stdout",
          "text": [
            "['varun', 'vidya']\n"
          ]
        }
      ]
    },
    {
      "cell_type": "code",
      "metadata": {
        "colab": {
          "base_uri": "https://localhost:8080/"
        },
        "id": "4a9ybXG-lGlD",
        "outputId": "6155ebaa-de81-4105-e9c2-357cde27b37d"
      },
      "source": [
        "print(\".union() Transformation\")\n",
        "inp=sc.parallelize([2,4,5,6,7,8,9])\n",
        "rdd1=inp.filter(lambda x: x % 2 == 0)\n",
        "rdd2=inp.filter(lambda x: x % 3 == 0)\n",
        "print(rdd1.union(rdd2).collect())"
      ],
      "execution_count": 14,
      "outputs": [
        {
          "output_type": "stream",
          "name": "stdout",
          "text": [
            ".union() Transformation\n",
            "[2, 4, 6, 8, 6, 9]\n"
          ]
        }
      ]
    },
    {
      "cell_type": "code",
      "metadata": {
        "colab": {
          "base_uri": "https://localhost:8080/"
        },
        "id": "0Qj5U5nTmUwt",
        "outputId": "b1e161b9-bca8-4962-92f3-d28d92657e82"
      },
      "source": [
        "print(\".flatMap() Transformation\")\n",
        "rdd=sc.parallelize([\"Hey there\", \"This is PySpark RDD Transformations\"])\n",
        "(rdd.flatMap(lambda x: x.split(\" \")).collect())"
      ],
      "execution_count": 15,
      "outputs": [
        {
          "output_type": "stream",
          "name": "stdout",
          "text": [
            ".flatMap() Transformation\n"
          ]
        },
        {
          "output_type": "execute_result",
          "data": {
            "text/plain": [
              "['Hey', 'there', 'This', 'is', 'PySpark', 'RDD', 'Transformations']"
            ]
          },
          "metadata": {},
          "execution_count": 15
        }
      ]
    },
    {
      "cell_type": "code",
      "metadata": {
        "colab": {
          "base_uri": "https://localhost:8080/"
        },
        "id": "rNive1rnmrnf",
        "outputId": "a912e7e2-4226-4571-c96c-e5b9adc7fee7"
      },
      "source": [
        "marks = [('Rahul', 88), ('Swati', 92), ('Shreya', 83), ('Abhay', 93), ('Rohan', 78)]\n",
        "sc.parallelize(marks).collect()"
      ],
      "execution_count": 16,
      "outputs": [
        {
          "output_type": "execute_result",
          "data": {
            "text/plain": [
              "[('Rahul', 88), ('Swati', 92), ('Shreya', 83), ('Abhay', 93), ('Rohan', 78)]"
            ]
          },
          "metadata": {},
          "execution_count": 16
        }
      ]
    },
    {
      "cell_type": "code",
      "metadata": {
        "colab": {
          "base_uri": "https://localhost:8080/"
        },
        "id": "bQ7XJmqtndzU",
        "outputId": "402b7019-e076-4a11-d395-efa76785f945"
      },
      "source": [
        "print(\".reduceByKey() Transformation\")\n",
        "marks_rdd = sc.parallelize([('Rahul', 25), ('Swati', 26), ('Shreya', 22), ('Abhay', 29), ('Rohan', 22), ('Rahul', 23), ('Swati', 19), ('Shreya', 28), ('Abhay', 26), ('Rohan', 22)])\n",
        "print(marks_rdd.reduceByKey(lambda x, y: x + y).collect())"
      ],
      "execution_count": 17,
      "outputs": [
        {
          "output_type": "stream",
          "name": "stdout",
          "text": [
            ".reduceByKey() Transformation\n",
            "[('Rahul', 48), ('Shreya', 50), ('Rohan', 44), ('Swati', 45), ('Abhay', 55)]\n"
          ]
        }
      ]
    },
    {
      "cell_type": "code",
      "metadata": {
        "colab": {
          "base_uri": "https://localhost:8080/"
        },
        "id": "t2gL68A9nkHi",
        "outputId": "6dfd70f0-df16-40f0-93b2-cd6d2b65e47f"
      },
      "source": [
        "print(\".sortByKey() Transformation\")\n",
        "marks_rdd = sc.parallelize([('Rahul', 25), ('Swati', 26), ('Shreya', 22), ('Abhay', 29), ('Rohan', 22), ('Rahul', 23), ('Swati', 19), ('Shreya', 28), ('Abhay', 26), ('Rohan', 22)])\n",
        "print(marks_rdd.sortByKey('ascending').collect())"
      ],
      "execution_count": 18,
      "outputs": [
        {
          "output_type": "stream",
          "name": "stdout",
          "text": [
            ".sortByKey() Transformation\n",
            "[('Abhay', 29), ('Abhay', 26), ('Rahul', 25), ('Rahul', 23), ('Rohan', 22), ('Rohan', 22), ('Shreya', 22), ('Shreya', 28), ('Swati', 26), ('Swati', 19)]\n"
          ]
        }
      ]
    },
    {
      "cell_type": "code",
      "metadata": {
        "colab": {
          "base_uri": "https://localhost:8080/"
        },
        "id": "Ba2nViQOnxli",
        "outputId": "8a5cb209-09ff-450a-8aed-ed8e61ed0e4e"
      },
      "source": [
        "print(\".groupByKey() Transformation\")\n",
        "marks_rdd = sc.parallelize([('Rahul', 25), ('Swati', 26), ('Shreya', 22), ('Abhay', 29), ('Rohan', 22), ('Rahul', 23), ('Swati', 19), ('Shreya', 28), ('Abhay', 26), ('Rohan', 22)])\n",
        "dict_rdd = marks_rdd.groupByKey().collect()\n",
        "for key, value in dict_rdd:\n",
        "    print(key, list(value))"
      ],
      "execution_count": 19,
      "outputs": [
        {
          "output_type": "stream",
          "name": "stdout",
          "text": [
            ".groupByKey() Transformation\n",
            "Rahul [25, 23]\n",
            "Shreya [22, 28]\n",
            "Rohan [22, 22]\n",
            "Swati [26, 19]\n",
            "Abhay [29, 26]\n"
          ]
        }
      ]
    },
    {
      "cell_type": "code",
      "metadata": {
        "id": "CAXFyhPun7mV"
      },
      "source": [
        ""
      ],
      "execution_count": 19,
      "outputs": []
    },
    {
      "cell_type": "code",
      "metadata": {
        "id": "6EGNFh79b-I_"
      },
      "source": [
        "#map"
      ],
      "execution_count": 52,
      "outputs": []
    },
    {
      "cell_type": "code",
      "metadata": {
        "colab": {
          "base_uri": "https://localhost:8080/"
        },
        "id": "XDVgAzsNb-MU",
        "outputId": "131d6400-3766-4556-a089-c83c75c78d3e"
      },
      "source": [
        "data = [\"Project\",\"Gutenberg’s\",\"Alice’s\",\"Adventures\",\"in\",\"Wonderland\",\"Project\",\"Gutenberg’s\",\"Adventures\",\"in\",\"Wonderland\",\"Project\",\"Gutenberg’s\"]\n",
        "rdd=sc.parallelize(data)  \n",
        "rdd2=rdd.map(lambda x:(x,'hai'))\n",
        "rdd2.collect()"
      ],
      "execution_count": 58,
      "outputs": [
        {
          "output_type": "execute_result",
          "data": {
            "text/plain": [
              "[('Project', 'hai'),\n",
              " ('Gutenberg’s', 'hai'),\n",
              " ('Alice’s', 'hai'),\n",
              " ('Adventures', 'hai'),\n",
              " ('in', 'hai'),\n",
              " ('Wonderland', 'hai'),\n",
              " ('Project', 'hai'),\n",
              " ('Gutenberg’s', 'hai'),\n",
              " ('Adventures', 'hai'),\n",
              " ('in', 'hai'),\n",
              " ('Wonderland', 'hai'),\n",
              " ('Project', 'hai'),\n",
              " ('Gutenberg’s', 'hai')]"
            ]
          },
          "metadata": {},
          "execution_count": 58
        }
      ]
    },
    {
      "cell_type": "code",
      "metadata": {
        "colab": {
          "base_uri": "https://localhost:8080/"
        },
        "id": "BD9iNa-KcDoF",
        "outputId": "7d2817b6-39ef-4552-e4eb-86c5f8b7d24f"
      },
      "source": [
        "a=[1,2,3,4]\n",
        "rdd=sc.parallelize(a)\n",
        "rdd2=rdd.map(lambda x: (x+1))\n",
        "for element in rdd2.collect():\n",
        "    print(element)"
      ],
      "execution_count": 54,
      "outputs": [
        {
          "output_type": "stream",
          "name": "stdout",
          "text": [
            "2\n",
            "3\n",
            "4\n",
            "5\n"
          ]
        }
      ]
    },
    {
      "cell_type": "code",
      "metadata": {
        "colab": {
          "base_uri": "https://localhost:8080/"
        },
        "id": "j98x1gQscvYZ",
        "outputId": "93104deb-98b6-4836-c125-ac751490429d"
      },
      "source": [
        "data = [('James','Smith','M',30),('Anna','Rose','F',41),('Robert','Williams','M',62), ]\n",
        "columns = [\"firstname\",\"lastname\",\"gender\",\"salary\"]\n",
        "df = spark.createDataFrame(data=data, schema = columns)\n",
        "df.show()\n",
        "# Refering columns by index.\n",
        "rdd2=df.rdd.map(lambda x: (x[0]+\",\"+x[1],x[2],x[3]*2))  \n",
        "df2=rdd2.toDF([\"name\",\"gender\",\"new_salary\"]   )\n",
        "df2.show()"
      ],
      "execution_count": 59,
      "outputs": [
        {
          "output_type": "stream",
          "name": "stdout",
          "text": [
            "+---------+--------+------+------+\n",
            "|firstname|lastname|gender|salary|\n",
            "+---------+--------+------+------+\n",
            "|    James|   Smith|     M|    30|\n",
            "|     Anna|    Rose|     F|    41|\n",
            "|   Robert|Williams|     M|    62|\n",
            "+---------+--------+------+------+\n",
            "\n",
            "+---------------+------+----------+\n",
            "|           name|gender|new_salary|\n",
            "+---------------+------+----------+\n",
            "|    James,Smith|     M|        60|\n",
            "|      Anna,Rose|     F|        82|\n",
            "|Robert,Williams|     M|       124|\n",
            "+---------------+------+----------+\n",
            "\n"
          ]
        }
      ]
    },
    {
      "cell_type": "code",
      "metadata": {
        "colab": {
          "base_uri": "https://localhost:8080/"
        },
        "id": "KVuavF9CerDl",
        "outputId": "b9bf9928-368c-4b66-b1b0-b711308ad3ce"
      },
      "source": [
        "# Referring Column Names\n",
        "rdd2=df.rdd.map(lambda x:(x[\"firstname\"]+\",\"+x[\"lastname\"],x[\"gender\"],x[\"salary\"]*2)) \n",
        "rdd2.collect()"
      ],
      "execution_count": 56,
      "outputs": [
        {
          "output_type": "execute_result",
          "data": {
            "text/plain": [
              "[('James,Smith', 'M', 60),\n",
              " ('Anna,Rose', 'F', 82),\n",
              " ('Robert,Williams', 'M', 124)]"
            ]
          },
          "metadata": {},
          "execution_count": 56
        }
      ]
    },
    {
      "cell_type": "code",
      "metadata": {
        "colab": {
          "base_uri": "https://localhost:8080/"
        },
        "id": "v1dqU__Og8FC",
        "outputId": "d24aacb4-6622-4787-d012-b688a674573f"
      },
      "source": [
        "rdd2=df.rdd.map(lambda x: (x.firstname+\",\"+x.lastname,x.gender,x.salary*2)) \n",
        "rdd2.collect()"
      ],
      "execution_count": 57,
      "outputs": [
        {
          "output_type": "execute_result",
          "data": {
            "text/plain": [
              "[('James,Smith', 'M', 60),\n",
              " ('Anna,Rose', 'F', 82),\n",
              " ('Robert,Williams', 'M', 124)]"
            ]
          },
          "metadata": {},
          "execution_count": 57
        }
      ]
    }
  ]
}