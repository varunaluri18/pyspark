{
  "nbformat": 4,
  "nbformat_minor": 0,
  "metadata": {
    "colab": {
      "name": "pyspark_json.ipynb",
      "provenance": [],
      "collapsed_sections": [],
      "authorship_tag": "ABX9TyNkJow5uCMBvgbIPNvtGR4y",
      "include_colab_link": true
    },
    "kernelspec": {
      "name": "python3",
      "display_name": "Python 3"
    },
    "language_info": {
      "name": "python"
    },
    "accelerator": "GPU"
  },
  "cells": [
    {
      "cell_type": "markdown",
      "metadata": {
        "id": "view-in-github",
        "colab_type": "text"
      },
      "source": [
        "<a href=\"https://colab.research.google.com/github/varunaluri18/pyspark/blob/main/pyspark_json.ipynb\" target=\"_parent\"><img src=\"https://colab.research.google.com/assets/colab-badge.svg\" alt=\"Open In Colab\"/></a>"
      ]
    },
    {
      "cell_type": "code",
      "metadata": {
        "colab": {
          "base_uri": "https://localhost:8080/"
        },
        "id": "-K3Vqh1Q1mbj",
        "outputId": "4deae674-4011-4398-a7fe-9d459ccb4398"
      },
      "source": [
        "pip install pyspark"
      ],
      "execution_count": 1,
      "outputs": [
        {
          "output_type": "stream",
          "name": "stdout",
          "text": [
            "Collecting pyspark\n",
            "  Downloading pyspark-3.2.0.tar.gz (281.3 MB)\n",
            "\u001b[K     |████████████████████████████████| 281.3 MB 44 kB/s \n",
            "\u001b[?25hCollecting py4j==0.10.9.2\n",
            "  Downloading py4j-0.10.9.2-py2.py3-none-any.whl (198 kB)\n",
            "\u001b[K     |████████████████████████████████| 198 kB 50.9 MB/s \n",
            "\u001b[?25hBuilding wheels for collected packages: pyspark\n",
            "  Building wheel for pyspark (setup.py) ... \u001b[?25l\u001b[?25hdone\n",
            "  Created wheel for pyspark: filename=pyspark-3.2.0-py2.py3-none-any.whl size=281805912 sha256=5823bd4e05172ffd8b5717cd27cdd240c50aeea039f78076a43c7786c0bc27b6\n",
            "  Stored in directory: /root/.cache/pip/wheels/0b/de/d2/9be5d59d7331c6c2a7c1b6d1a4f463ce107332b1ecd4e80718\n",
            "Successfully built pyspark\n",
            "Installing collected packages: py4j, pyspark\n",
            "Successfully installed py4j-0.10.9.2 pyspark-3.2.0\n"
          ]
        }
      ]
    },
    {
      "cell_type": "code",
      "metadata": {
        "colab": {
          "base_uri": "https://localhost:8080/",
          "height": 219
        },
        "id": "9wGyY-oR1s9u",
        "outputId": "4f6f0926-1515-425b-d5a9-0cc828947548"
      },
      "source": [
        "import pyspark\n",
        "from pyspark.sql import SparkSession\n",
        "spark =SparkSession.builder.appName('firstprogram').getOrCreate()\n",
        "spark"
      ],
      "execution_count": 2,
      "outputs": [
        {
          "output_type": "execute_result",
          "data": {
            "text/html": [
              "\n",
              "            <div>\n",
              "                <p><b>SparkSession - in-memory</b></p>\n",
              "                \n",
              "        <div>\n",
              "            <p><b>SparkContext</b></p>\n",
              "\n",
              "            <p><a href=\"http://c7b5e117af4a:4040\">Spark UI</a></p>\n",
              "\n",
              "            <dl>\n",
              "              <dt>Version</dt>\n",
              "                <dd><code>v3.2.0</code></dd>\n",
              "              <dt>Master</dt>\n",
              "                <dd><code>local[*]</code></dd>\n",
              "              <dt>AppName</dt>\n",
              "                <dd><code>firstprogram</code></dd>\n",
              "            </dl>\n",
              "        </div>\n",
              "        \n",
              "            </div>\n",
              "        "
            ],
            "text/plain": [
              "<pyspark.sql.session.SparkSession at 0x7f5e439c27d0>"
            ]
          },
          "metadata": {},
          "execution_count": 2
        }
      ]
    },
    {
      "cell_type": "code",
      "metadata": {
        "colab": {
          "base_uri": "https://localhost:8080/",
          "height": 196
        },
        "id": "zkkxUpvL3BGh",
        "outputId": "a9b01690-72a1-4316-faf5-314e0e4ddc52"
      },
      "source": [
        "from pyspark.context import SparkContext\n",
        "sc = SparkContext.getOrCreate()\n",
        "sc"
      ],
      "execution_count": 3,
      "outputs": [
        {
          "output_type": "execute_result",
          "data": {
            "text/html": [
              "\n",
              "        <div>\n",
              "            <p><b>SparkContext</b></p>\n",
              "\n",
              "            <p><a href=\"http://c7b5e117af4a:4040\">Spark UI</a></p>\n",
              "\n",
              "            <dl>\n",
              "              <dt>Version</dt>\n",
              "                <dd><code>v3.2.0</code></dd>\n",
              "              <dt>Master</dt>\n",
              "                <dd><code>local[*]</code></dd>\n",
              "              <dt>AppName</dt>\n",
              "                <dd><code>firstprogram</code></dd>\n",
              "            </dl>\n",
              "        </div>\n",
              "        "
            ],
            "text/plain": [
              "<SparkContext master=local[*] appName=firstprogram>"
            ]
          },
          "metadata": {},
          "execution_count": 3
        }
      ]
    },
    {
      "cell_type": "code",
      "metadata": {
        "colab": {
          "base_uri": "https://localhost:8080/"
        },
        "id": "GGkv8B-O1tjJ",
        "outputId": "e151c8e1-61d0-44e6-eb52-7ae138e5c4bd"
      },
      "source": [
        "a='{\"numbers\": [1, 2, 3, 4, 5, 6]}'\n",
        "df= spark.read.json(sc.parallelize([a]))\n",
        "df.show()\n",
        "df.printSchema()"
      ],
      "execution_count": 4,
      "outputs": [
        {
          "output_type": "stream",
          "name": "stdout",
          "text": [
            "+------------------+\n",
            "|           numbers|\n",
            "+------------------+\n",
            "|[1, 2, 3, 4, 5, 6]|\n",
            "+------------------+\n",
            "\n",
            "root\n",
            " |-- numbers: array (nullable = true)\n",
            " |    |-- element: long (containsNull = true)\n",
            "\n"
          ]
        }
      ]
    },
    {
      "cell_type": "code",
      "metadata": {
        "colab": {
          "base_uri": "https://localhost:8080/"
        },
        "id": "-36z2d-O5Luk",
        "outputId": "fc231526-983e-4dc5-a96e-16b611674514"
      },
      "source": [
        "print('Flatten the Array using Explode')\n",
        "from pyspark.sql.functions import explode\n",
        "df.select(explode('numbers').alias('number')).show()"
      ],
      "execution_count": 5,
      "outputs": [
        {
          "output_type": "stream",
          "name": "stdout",
          "text": [
            "Flatten the Array using Explode\n",
            "+------+\n",
            "|number|\n",
            "+------+\n",
            "|     1|\n",
            "|     2|\n",
            "|     3|\n",
            "|     4|\n",
            "|     5|\n",
            "|     6|\n",
            "+------+\n",
            "\n"
          ]
        }
      ]
    },
    {
      "cell_type": "code",
      "metadata": {
        "colab": {
          "base_uri": "https://localhost:8080/"
        },
        "id": "DXwEScLk6GFn",
        "outputId": "8e5eabae-2b2c-4cc3-c410-761bf96d10f6"
      },
      "source": [
        "input_json ='{\"car_details\":{\"model\": \"Tesla S\", \"year\": 2018}}'\n",
        "sdf = spark.read.json(sc.parallelize([input_json]))\n",
        "sdf.show()\n",
        "sdf.printSchema()"
      ],
      "execution_count": 6,
      "outputs": [
        {
          "output_type": "stream",
          "name": "stdout",
          "text": [
            "+---------------+\n",
            "|    car_details|\n",
            "+---------------+\n",
            "|{Tesla S, 2018}|\n",
            "+---------------+\n",
            "\n",
            "root\n",
            " |-- car_details: struct (nullable = true)\n",
            " |    |-- model: string (nullable = true)\n",
            " |    |-- year: long (nullable = true)\n",
            "\n"
          ]
        }
      ]
    },
    {
      "cell_type": "code",
      "metadata": {
        "colab": {
          "base_uri": "https://localhost:8080/"
        },
        "id": "La7km1656dx5",
        "outputId": "23c79357-0b70-4ca2-f24c-56eb490d160f"
      },
      "source": [
        "sdf.select(sdf.car_details.model, sdf.car_details.year).show()"
      ],
      "execution_count": 7,
      "outputs": [
        {
          "output_type": "stream",
          "name": "stdout",
          "text": [
            "+-----------------+----------------+\n",
            "|car_details.model|car_details.year|\n",
            "+-----------------+----------------+\n",
            "|          Tesla S|            2018|\n",
            "+-----------------+----------------+\n",
            "\n"
          ]
        }
      ]
    },
    {
      "cell_type": "code",
      "metadata": {
        "colab": {
          "base_uri": "https://localhost:8080/"
        },
        "id": "UEGx9YNg7Pqx",
        "outputId": "ed8ce575-a0e9-4719-ac4d-76c37417abe3"
      },
      "source": [
        "from pyspark.sql.functions import col\n",
        "sdf.select(col('car_details.model'), col('car_details.year')).show()"
      ],
      "execution_count": 8,
      "outputs": [
        {
          "output_type": "stream",
          "name": "stdout",
          "text": [
            "+-------+----+\n",
            "|  model|year|\n",
            "+-------+----+\n",
            "|Tesla S|2018|\n",
            "+-------+----+\n",
            "\n"
          ]
        }
      ]
    },
    {
      "cell_type": "code",
      "metadata": {
        "colab": {
          "base_uri": "https://localhost:8080/"
        },
        "id": "JMTT6R637ecT",
        "outputId": "84c87fab-add5-42f6-ec13-66d1961ac7b7"
      },
      "source": [
        "from pyspark.sql.types import StructType, MapType, StringType, IntegerType\n",
        "a= '{\"Car\":{\"model_id\": 835,\"year\": 2008}}'\n",
        "schema = StructType().add(\"Car\", MapType(StringType(), IntegerType()))\n",
        "mdf = spark.read.json(sc.parallelize([a]), schema=schema)\n",
        "mdf.printSchema()"
      ],
      "execution_count": 9,
      "outputs": [
        {
          "output_type": "stream",
          "name": "stdout",
          "text": [
            "root\n",
            " |-- Car: map (nullable = true)\n",
            " |    |-- key: string\n",
            " |    |-- value: integer (valueContainsNull = true)\n",
            "\n"
          ]
        }
      ]
    },
    {
      "cell_type": "code",
      "metadata": {
        "colab": {
          "base_uri": "https://localhost:8080/"
        },
        "id": "98nCfYtA8L8K",
        "outputId": "15ab9864-8db6-443e-a18a-a02626e41d9a"
      },
      "source": [
        "mdf.show(truncate=False)\n",
        "mdf.select(mdf.Car['model_id'], mdf.Car['year']).show()"
      ],
      "execution_count": 10,
      "outputs": [
        {
          "output_type": "stream",
          "name": "stdout",
          "text": [
            "+-------------------------------+\n",
            "|Car                            |\n",
            "+-------------------------------+\n",
            "|{model_id -> 835, year -> 2008}|\n",
            "+-------------------------------+\n",
            "\n",
            "+-------------+---------+\n",
            "|Car[model_id]|Car[year]|\n",
            "+-------------+---------+\n",
            "|          835|     2008|\n",
            "+-------------+---------+\n",
            "\n"
          ]
        }
      ]
    },
    {
      "cell_type": "code",
      "metadata": {
        "colab": {
          "base_uri": "https://localhost:8080/"
        },
        "id": "N9R8j1KU81-l",
        "outputId": "405280f3-30f5-43aa-e221-f96b430428e1"
      },
      "source": [
        "\n",
        "input_json ='''{'id': 1,'num': '001','name': 'Bulbasaur','img': 'http://www.serebii.net/pokemongo/pokemon/001.png','type': ['Grass', 'Poison'],'height': '0.71 m','weight': '6.9 kg','candy': 'Bulbasaur Candy','candy_count': 25,'egg': '2 km','spawn_chance': 0.69,'avg_spawns': 69,'spawn_time': '20:00','multipliers': [1.58],'weaknesses': ['Fire', 'Ice', 'Flying', 'Psychic'],  # Array Element'next_evolution': [{'num': '002', 'name': 'Ivysaur'}, {'num': '003', 'name': 'Venusaur'}]}'''\n",
        "sdf = spark.read.json(sc.parallelize([input_json]))\n",
        "sdf.show()\n",
        "sdf.printSchema()\n"
      ],
      "execution_count": 11,
      "outputs": [
        {
          "output_type": "stream",
          "name": "stdout",
          "text": [
            "+--------------------+\n",
            "|     _corrupt_record|\n",
            "+--------------------+\n",
            "|{'id': 1,'num': '...|\n",
            "+--------------------+\n",
            "\n",
            "root\n",
            " |-- _corrupt_record: string (nullable = true)\n",
            "\n"
          ]
        }
      ]
    },
    {
      "cell_type": "code",
      "metadata": {
        "id": "NXbLLXh1GdZy"
      },
      "source": [
        "input_json='''{\"users\": [\n",
        "    {      \"userId\": 1,      \"firstName\": \"Krish\",      \"lastName\": \"Lee\",      \"phoneNumber\": \"123456\",      \"emailAddress\": \"krish.lee@learningcontainer.com\"    },\n",
        "    {      \"userId\": 2,      \"firstName\": \"racks\",      \"lastName\": \"jacson\",      \"phoneNumber\": \"123456\",      \"emailAddress\": \"racks.jacson@learningcontainer.com\"    },\n",
        "    {      \"userId\": 3,      \"firstName\": \"denial\",      \"lastName\": \"roast\",      \"phoneNumber\": \"33333333\",      \"emailAddress\": \"denial.roast@learningcontainer.com\"    },\n",
        "    {      \"userId\": 4,      \"firstName\": \"devid\",      \"lastName\": \"neo\",      \"phoneNumber\": \"222222222\",      \"emailAddress\": \"devid.neo@learningcontainer.com\"    },\n",
        "    {      \"userId\": 5,      \"firstName\": \"jone\",      \"lastName\": \"mac\",      \"phoneNumber\": \"111111111\",      \"emailAddress\": \"jone.mac@learningcontainer.com\"    } ]\n",
        "}'''"
      ],
      "execution_count": 12,
      "outputs": []
    },
    {
      "cell_type": "code",
      "metadata": {
        "id": "EWE3CM6jHBPv",
        "colab": {
          "base_uri": "https://localhost:8080/",
          "height": 122
        },
        "outputId": "060f62c0-9068-41fa-dd47-099cd51df6d2"
      },
      "source": [
        "input_json"
      ],
      "execution_count": 13,
      "outputs": [
        {
          "output_type": "execute_result",
          "data": {
            "application/vnd.google.colaboratory.intrinsic+json": {
              "type": "string"
            },
            "text/plain": [
              "'{\"users\": [\\n    {      \"userId\": 1,      \"firstName\": \"Krish\",      \"lastName\": \"Lee\",      \"phoneNumber\": \"123456\",      \"emailAddress\": \"krish.lee@learningcontainer.com\"    },\\n    {      \"userId\": 2,      \"firstName\": \"racks\",      \"lastName\": \"jacson\",      \"phoneNumber\": \"123456\",      \"emailAddress\": \"racks.jacson@learningcontainer.com\"    },\\n    {      \"userId\": 3,      \"firstName\": \"denial\",      \"lastName\": \"roast\",      \"phoneNumber\": \"33333333\",      \"emailAddress\": \"denial.roast@learningcontainer.com\"    },\\n    {      \"userId\": 4,      \"firstName\": \"devid\",      \"lastName\": \"neo\",      \"phoneNumber\": \"222222222\",      \"emailAddress\": \"devid.neo@learningcontainer.com\"    },\\n    {      \"userId\": 5,      \"firstName\": \"jone\",      \"lastName\": \"mac\",      \"phoneNumber\": \"111111111\",      \"emailAddress\": \"jone.mac@learningcontainer.com\"    } ]\\n}'"
            ]
          },
          "metadata": {},
          "execution_count": 13
        }
      ]
    },
    {
      "cell_type": "code",
      "metadata": {
        "id": "DvooPk5DM9qt"
      },
      "source": [
        "data_in=['{\"name\":\"Michael\",\"Education\":[{\"Qualification\":\"BE\",\"Year\":2010}]}']\n",
        "inter=spark.sparkContext.parallelize(data_in)\n",
        "dff=spark.read.json(inter)"
      ],
      "execution_count": 14,
      "outputs": []
    },
    {
      "cell_type": "code",
      "metadata": {
        "colab": {
          "base_uri": "https://localhost:8080/"
        },
        "id": "SgQvp4p9M9wr",
        "outputId": "3df6f792-7385-49e5-8b77-a166893a4ca4"
      },
      "source": [
        "dff.show()\n",
        "dff.select('name',col('Education.Qualification').alias('Qualification'),col('Education.year').alias('year')).show()"
      ],
      "execution_count": 15,
      "outputs": [
        {
          "output_type": "stream",
          "name": "stdout",
          "text": [
            "+------------+-------+\n",
            "|   Education|   name|\n",
            "+------------+-------+\n",
            "|[{BE, 2010}]|Michael|\n",
            "+------------+-------+\n",
            "\n",
            "+-------+-------------+------+\n",
            "|   name|Qualification|  year|\n",
            "+-------+-------------+------+\n",
            "|Michael|         [BE]|[2010]|\n",
            "+-------+-------------+------+\n",
            "\n"
          ]
        }
      ]
    },
    {
      "cell_type": "code",
      "metadata": {
        "colab": {
          "base_uri": "https://localhost:8080/"
        },
        "id": "A_uYcGQQXcjR",
        "outputId": "04e44b62-51cd-4ff9-bf4a-ead5c668dfd2"
      },
      "source": [
        "data_in=['{\"Name\":[\"Michael\",\"Clark\"],\"Education\":[{\"Qualification\":\"BE\",\"Year\":2010}]}']\n",
        "inter=spark.sparkContext.parallelize(data_in)\n",
        "dff=spark.read.json(inter)\n",
        "dff.select('Name','Education').show()"
      ],
      "execution_count": 16,
      "outputs": [
        {
          "output_type": "stream",
          "name": "stdout",
          "text": [
            "+----------------+------------+\n",
            "|            Name|   Education|\n",
            "+----------------+------------+\n",
            "|[Michael, Clark]|[{BE, 2010}]|\n",
            "+----------------+------------+\n",
            "\n"
          ]
        }
      ]
    },
    {
      "cell_type": "markdown",
      "metadata": {
        "id": "NT2flWqXcA1N"
      },
      "source": [
        "Read the json file from the local system"
      ]
    },
    {
      "cell_type": "code",
      "metadata": {
        "id": "FeA21_b8HCiY"
      },
      "source": [
        "import json\n",
        "with open('/content/pocdex.json', 'r') as f:\n",
        "    vals = json.load(f)\n",
        "vals = vals['pokemon']"
      ],
      "execution_count": 18,
      "outputs": []
    },
    {
      "cell_type": "code",
      "metadata": {
        "id": "ZYnpmifRdxU8"
      },
      "source": [
        "with open('/content/pocdex.json', 'w') as f:\n",
        "    f.write(json.dumps(vals)) \n",
        "# json.dumps converts the list into a JSON String."
      ],
      "execution_count": 19,
      "outputs": []
    },
    {
      "cell_type": "code",
      "metadata": {
        "id": "X0yq5f6feSmi"
      },
      "source": [
        "df = spark.read.json('/content/pocdex.json', multiLine=True)"
      ],
      "execution_count": 20,
      "outputs": []
    },
    {
      "cell_type": "code",
      "metadata": {
        "id": "HBQ9F71PedGY"
      },
      "source": [
        "df = spark.read.format('json').option('multiLine', 'True').load('/content/pocdex.json')"
      ],
      "execution_count": 21,
      "outputs": []
    },
    {
      "cell_type": "code",
      "metadata": {
        "colab": {
          "base_uri": "https://localhost:8080/"
        },
        "id": "23P10qR5eedM",
        "outputId": "b00cf1c5-dcb6-4ab6-a411-cdcbd56b397d"
      },
      "source": [
        "df.printSchema()"
      ],
      "execution_count": 22,
      "outputs": [
        {
          "output_type": "stream",
          "name": "stdout",
          "text": [
            "root\n",
            " |-- avg_spawns: double (nullable = true)\n",
            " |-- candy: string (nullable = true)\n",
            " |-- candy_count: long (nullable = true)\n",
            " |-- egg: string (nullable = true)\n",
            " |-- height: string (nullable = true)\n",
            " |-- id: long (nullable = true)\n",
            " |-- img: string (nullable = true)\n",
            " |-- multipliers: array (nullable = true)\n",
            " |    |-- element: double (containsNull = true)\n",
            " |-- name: string (nullable = true)\n",
            " |-- next_evolution: array (nullable = true)\n",
            " |    |-- element: struct (containsNull = true)\n",
            " |    |    |-- name: string (nullable = true)\n",
            " |    |    |-- num: string (nullable = true)\n",
            " |-- num: string (nullable = true)\n",
            " |-- prev_evolution: array (nullable = true)\n",
            " |    |-- element: struct (containsNull = true)\n",
            " |    |    |-- name: string (nullable = true)\n",
            " |    |    |-- num: string (nullable = true)\n",
            " |-- spawn_chance: double (nullable = true)\n",
            " |-- spawn_time: string (nullable = true)\n",
            " |-- type: array (nullable = true)\n",
            " |    |-- element: string (containsNull = true)\n",
            " |-- weaknesses: array (nullable = true)\n",
            " |    |-- element: string (containsNull = true)\n",
            " |-- weight: string (nullable = true)\n",
            "\n"
          ]
        }
      ]
    },
    {
      "cell_type": "code",
      "metadata": {
        "colab": {
          "base_uri": "https://localhost:8080/"
        },
        "id": "57wYC3VOeqiN",
        "outputId": "3eb467ae-c79f-46b1-be40-cbbcd37a9cc1"
      },
      "source": [
        "df.show(5,False)"
      ],
      "execution_count": 23,
      "outputs": [
        {
          "output_type": "stream",
          "name": "stdout",
          "text": [
            "+----------+----------------+-----------+-----------+------+---+------------------------------------------------+-----------+----------+-------------------------------------+---+----------------------------------+------------+----------+---------------+----------------------------+--------+\n",
            "|avg_spawns|candy           |candy_count|egg        |height|id |img                                             |multipliers|name      |next_evolution                       |num|prev_evolution                    |spawn_chance|spawn_time|type           |weaknesses                  |weight  |\n",
            "+----------+----------------+-----------+-----------+------+---+------------------------------------------------+-----------+----------+-------------------------------------+---+----------------------------------+------------+----------+---------------+----------------------------+--------+\n",
            "|69.0      |Bulbasaur Candy |25         |2 km       |0.71 m|1  |http://www.serebii.net/pokemongo/pokemon/001.png|[1.58]     |Bulbasaur |[{Ivysaur, 002}, {Venusaur, 003}]    |001|null                              |0.69        |20:00     |[Grass, Poison]|[Fire, Ice, Flying, Psychic]|6.9 kg  |\n",
            "|4.2       |Bulbasaur Candy |100        |Not in Eggs|0.99 m|2  |http://www.serebii.net/pokemongo/pokemon/002.png|[1.2, 1.6] |Ivysaur   |[{Venusaur, 003}]                    |002|[{Bulbasaur, 001}]                |0.042       |07:00     |[Grass, Poison]|[Fire, Ice, Flying, Psychic]|13.0 kg |\n",
            "|1.7       |Bulbasaur Candy |null       |Not in Eggs|2.01 m|3  |http://www.serebii.net/pokemongo/pokemon/003.png|null       |Venusaur  |null                                 |003|[{Bulbasaur, 001}, {Ivysaur, 002}]|0.017       |11:30     |[Grass, Poison]|[Fire, Ice, Flying, Psychic]|100.0 kg|\n",
            "|25.3      |Charmander Candy|25         |2 km       |0.61 m|4  |http://www.serebii.net/pokemongo/pokemon/004.png|[1.65]     |Charmander|[{Charmeleon, 005}, {Charizard, 006}]|004|null                              |0.253       |08:45     |[Fire]         |[Water, Ground, Rock]       |8.5 kg  |\n",
            "|1.2       |Charmander Candy|100        |Not in Eggs|1.09 m|5  |http://www.serebii.net/pokemongo/pokemon/005.png|[1.79]     |Charmeleon|[{Charizard, 006}]                   |005|[{Charmander, 004}]               |0.012       |19:00     |[Fire]         |[Water, Ground, Rock]       |19.0 kg |\n",
            "+----------+----------------+-----------+-----------+------+---+------------------------------------------------+-----------+----------+-------------------------------------+---+----------------------------------+------------+----------+---------------+----------------------------+--------+\n",
            "only showing top 5 rows\n",
            "\n"
          ]
        }
      ]
    },
    {
      "cell_type": "code",
      "metadata": {
        "colab": {
          "base_uri": "https://localhost:8080/"
        },
        "id": "ruxalKUme9ez",
        "outputId": "5a144cf4-8bda-47bb-85e8-92513f90d0e9"
      },
      "source": [
        "df.count()"
      ],
      "execution_count": 24,
      "outputs": [
        {
          "output_type": "execute_result",
          "data": {
            "text/plain": [
              "151"
            ]
          },
          "metadata": {},
          "execution_count": 24
        }
      ]
    },
    {
      "cell_type": "code",
      "metadata": {
        "colab": {
          "base_uri": "https://localhost:8080/"
        },
        "id": "Gvzobm7JfMFR",
        "outputId": "4f80eb67-c4cb-46f4-ea1d-78af7190c14b"
      },
      "source": [
        "df.columns"
      ],
      "execution_count": 25,
      "outputs": [
        {
          "output_type": "execute_result",
          "data": {
            "text/plain": [
              "['avg_spawns',\n",
              " 'candy',\n",
              " 'candy_count',\n",
              " 'egg',\n",
              " 'height',\n",
              " 'id',\n",
              " 'img',\n",
              " 'multipliers',\n",
              " 'name',\n",
              " 'next_evolution',\n",
              " 'num',\n",
              " 'prev_evolution',\n",
              " 'spawn_chance',\n",
              " 'spawn_time',\n",
              " 'type',\n",
              " 'weaknesses',\n",
              " 'weight']"
            ]
          },
          "metadata": {},
          "execution_count": 25
        }
      ]
    },
    {
      "cell_type": "code",
      "metadata": {
        "colab": {
          "base_uri": "https://localhost:8080/"
        },
        "id": "SWO7YmvQfqBh",
        "outputId": "e1e369a3-1379-48de-874b-285c61a90632"
      },
      "source": [
        "df.select('id','name','weaknesses','next_evolution', 'prev_evolution').show(5,False)"
      ],
      "execution_count": 26,
      "outputs": [
        {
          "output_type": "stream",
          "name": "stdout",
          "text": [
            "+---+----------+----------------------------+-------------------------------------+----------------------------------+\n",
            "|id |name      |weaknesses                  |next_evolution                       |prev_evolution                    |\n",
            "+---+----------+----------------------------+-------------------------------------+----------------------------------+\n",
            "|1  |Bulbasaur |[Fire, Ice, Flying, Psychic]|[{Ivysaur, 002}, {Venusaur, 003}]    |null                              |\n",
            "|2  |Ivysaur   |[Fire, Ice, Flying, Psychic]|[{Venusaur, 003}]                    |[{Bulbasaur, 001}]                |\n",
            "|3  |Venusaur  |[Fire, Ice, Flying, Psychic]|null                                 |[{Bulbasaur, 001}, {Ivysaur, 002}]|\n",
            "|4  |Charmander|[Water, Ground, Rock]       |[{Charmeleon, 005}, {Charizard, 006}]|null                              |\n",
            "|5  |Charmeleon|[Water, Ground, Rock]       |[{Charizard, 006}]                   |[{Charmander, 004}]               |\n",
            "+---+----------+----------------------------+-------------------------------------+----------------------------------+\n",
            "only showing top 5 rows\n",
            "\n"
          ]
        }
      ]
    },
    {
      "cell_type": "code",
      "metadata": {
        "colab": {
          "base_uri": "https://localhost:8080/"
        },
        "id": "fNc35962fzhS",
        "outputId": "0ccd25e3-0d6b-483e-b067-7435415651ab"
      },
      "source": [
        "from pyspark.sql.functions import explode\n",
        "df.select('id', 'name', explode('weaknesses').alias('weakness')).show(10)"
      ],
      "execution_count": 27,
      "outputs": [
        {
          "output_type": "stream",
          "name": "stdout",
          "text": [
            "+---+---------+--------+\n",
            "| id|     name|weakness|\n",
            "+---+---------+--------+\n",
            "|  1|Bulbasaur|    Fire|\n",
            "|  1|Bulbasaur|     Ice|\n",
            "|  1|Bulbasaur|  Flying|\n",
            "|  1|Bulbasaur| Psychic|\n",
            "|  2|  Ivysaur|    Fire|\n",
            "|  2|  Ivysaur|     Ice|\n",
            "|  2|  Ivysaur|  Flying|\n",
            "|  2|  Ivysaur| Psychic|\n",
            "|  3| Venusaur|    Fire|\n",
            "|  3| Venusaur|     Ice|\n",
            "+---+---------+--------+\n",
            "only showing top 10 rows\n",
            "\n"
          ]
        }
      ]
    },
    {
      "cell_type": "code",
      "metadata": {
        "colab": {
          "base_uri": "https://localhost:8080/"
        },
        "id": "oMaT5mtmrV-G",
        "outputId": "82cd65a8-fa30-4683-ffbe-c10fe08963aa"
      },
      "source": [
        "df.select('id', 'name', 'next_evolution', 'prev_evolution').show(10,False)"
      ],
      "execution_count": 28,
      "outputs": [
        {
          "output_type": "stream",
          "name": "stdout",
          "text": [
            "+---+----------+-------------------------------------+--------------------------------------+\n",
            "|id |name      |next_evolution                       |prev_evolution                        |\n",
            "+---+----------+-------------------------------------+--------------------------------------+\n",
            "|1  |Bulbasaur |[{Ivysaur, 002}, {Venusaur, 003}]    |null                                  |\n",
            "|2  |Ivysaur   |[{Venusaur, 003}]                    |[{Bulbasaur, 001}]                    |\n",
            "|3  |Venusaur  |null                                 |[{Bulbasaur, 001}, {Ivysaur, 002}]    |\n",
            "|4  |Charmander|[{Charmeleon, 005}, {Charizard, 006}]|null                                  |\n",
            "|5  |Charmeleon|[{Charizard, 006}]                   |[{Charmander, 004}]                   |\n",
            "|6  |Charizard |null                                 |[{Charmander, 004}, {Charmeleon, 005}]|\n",
            "|7  |Squirtle  |[{Wartortle, 008}, {Blastoise, 009}] |null                                  |\n",
            "|8  |Wartortle |[{Blastoise, 009}]                   |[{Squirtle, 007}]                     |\n",
            "|9  |Blastoise |null                                 |[{Squirtle, 007}, {Wartortle, 008}]   |\n",
            "|10 |Caterpie  |[{Metapod, 011}, {Butterfree, 012}]  |null                                  |\n",
            "+---+----------+-------------------------------------+--------------------------------------+\n",
            "only showing top 10 rows\n",
            "\n"
          ]
        }
      ]
    },
    {
      "cell_type": "code",
      "metadata": {
        "colab": {
          "base_uri": "https://localhost:8080/"
        },
        "id": "H6yKDlliszF3",
        "outputId": "35ca24fd-072d-424a-a474-cdc56e3da783"
      },
      "source": [
        "exp_df = df.select('id','name',explode('next_evolution').alias('next_evolution'), 'prev_evolution').select('id','name', 'next_evolution', explode('prev_evolution').alias('prev_evolution'))\n",
        "exp_df.show(5)"
      ],
      "execution_count": 29,
      "outputs": [
        {
          "output_type": "stream",
          "name": "stdout",
          "text": [
            "+---+----------+-----------------+-----------------+\n",
            "| id|      name|   next_evolution|   prev_evolution|\n",
            "+---+----------+-----------------+-----------------+\n",
            "|  2|   Ivysaur|  {Venusaur, 003}| {Bulbasaur, 001}|\n",
            "|  5|Charmeleon| {Charizard, 006}|{Charmander, 004}|\n",
            "|  8| Wartortle| {Blastoise, 009}|  {Squirtle, 007}|\n",
            "| 11|   Metapod|{Butterfree, 012}|  {Caterpie, 010}|\n",
            "| 14|    Kakuna|  {Beedrill, 015}|    {Weedle, 013}|\n",
            "+---+----------+-----------------+-----------------+\n",
            "only showing top 5 rows\n",
            "\n"
          ]
        }
      ]
    },
    {
      "cell_type": "code",
      "metadata": {
        "colab": {
          "base_uri": "https://localhost:8080/"
        },
        "id": "nWFD84C1tBgo",
        "outputId": "5ce9c020-226b-4f6b-cf9b-4ba0b74b6601"
      },
      "source": [
        "from pyspark.sql.functions import col\n",
        "exp_df.select('id','name', col('next_evolution.name').alias('next_name'), col('next_evolution.num')\\\n",
        "              .alias('next_num'), col('prev_evolution.name').alias('prev_name')\\\n",
        "              , col('prev_evolution.num').alias('prev_num')).show(4)"
      ],
      "execution_count": 30,
      "outputs": [
        {
          "output_type": "stream",
          "name": "stdout",
          "text": [
            "+---+----------+----------+--------+----------+--------+\n",
            "| id|      name| next_name|next_num| prev_name|prev_num|\n",
            "+---+----------+----------+--------+----------+--------+\n",
            "|  2|   Ivysaur|  Venusaur|     003| Bulbasaur|     001|\n",
            "|  5|Charmeleon| Charizard|     006|Charmander|     004|\n",
            "|  8| Wartortle| Blastoise|     009|  Squirtle|     007|\n",
            "| 11|   Metapod|Butterfree|     012|  Caterpie|     010|\n",
            "+---+----------+----------+--------+----------+--------+\n",
            "only showing top 4 rows\n",
            "\n"
          ]
        }
      ]
    },
    {
      "cell_type": "code",
      "metadata": {
        "colab": {
          "base_uri": "https://localhost:8080/"
        },
        "id": "hiMNy2pn3SVn",
        "outputId": "725a0a02-39d3-4502-9c26-1bbc8c1af9dd"
      },
      "source": [
        "df.select ('id','name',col('next_evolution.name').alias('name'),'prev_evolution').show(1,False)"
      ],
      "execution_count": 31,
      "outputs": [
        {
          "output_type": "stream",
          "name": "stdout",
          "text": [
            "+---+---------+-------------------+--------------+\n",
            "|id |name     |name               |prev_evolution|\n",
            "+---+---------+-------------------+--------------+\n",
            "|1  |Bulbasaur|[Ivysaur, Venusaur]|null          |\n",
            "+---+---------+-------------------+--------------+\n",
            "only showing top 1 row\n",
            "\n"
          ]
        }
      ]
    },
    {
      "cell_type": "code",
      "metadata": {
        "colab": {
          "base_uri": "https://localhost:8080/"
        },
        "id": "DQSwGA7PF-Sh",
        "outputId": "ae98fcc3-323a-4acc-cdab-d58e557faede"
      },
      "source": [
        "df.select(\"*\",'id','name', col('next_evolution.name').alias('next_name'), col('next_evolution.num')\\\n",
        "              .alias('next_num'), col('prev_evolution.name').alias('prev_name')\\\n",
        "              ,col('prev_evolution.num').alias('prev_num')).show(1)"
      ],
      "execution_count": 32,
      "outputs": [
        {
          "output_type": "stream",
          "name": "stdout",
          "text": [
            "+----------+---------------+-----------+----+------+---+--------------------+-----------+---------+--------------------+---+--------------+------------+----------+---------------+--------------------+------+---+---------+-------------------+----------+---------+--------+\n",
            "|avg_spawns|          candy|candy_count| egg|height| id|                 img|multipliers|     name|      next_evolution|num|prev_evolution|spawn_chance|spawn_time|           type|          weaknesses|weight| id|     name|          next_name|  next_num|prev_name|prev_num|\n",
            "+----------+---------------+-----------+----+------+---+--------------------+-----------+---------+--------------------+---+--------------+------------+----------+---------------+--------------------+------+---+---------+-------------------+----------+---------+--------+\n",
            "|      69.0|Bulbasaur Candy|         25|2 km|0.71 m|  1|http://www.serebi...|     [1.58]|Bulbasaur|[{Ivysaur, 002}, ...|001|          null|        0.69|     20:00|[Grass, Poison]|[Fire, Ice, Flyin...|6.9 kg|  1|Bulbasaur|[Ivysaur, Venusaur]|[002, 003]|     null|    null|\n",
            "+----------+---------------+-----------+----+------+---+--------------------+-----------+---------+--------------------+---+--------------+------------+----------+---------------+--------------------+------+---+---------+-------------------+----------+---------+--------+\n",
            "only showing top 1 row\n",
            "\n"
          ]
        }
      ]
    },
    {
      "cell_type": "code",
      "metadata": {
        "id": "XvNCJ9nKUnxi",
        "colab": {
          "base_uri": "https://localhost:8080/"
        },
        "outputId": "2b299c25-06ff-4eb8-adf5-a35d44c3eb9b"
      },
      "source": [
        "df.select('avg_spawns','candy','candy_count','egg','height','id','img','multipliers','name',col('next_evolution.name').alias('next_name'), col('next_evolution.num').alias('next_num'),'num',col('prev_evolution.name').alias('prev_name'),col('prev_evolution.num').alias('prev_num'),'spawn_chance','spawn_time','type','weaknesses','weight').printSchema()"
      ],
      "execution_count": 33,
      "outputs": [
        {
          "output_type": "stream",
          "name": "stdout",
          "text": [
            "root\n",
            " |-- avg_spawns: double (nullable = true)\n",
            " |-- candy: string (nullable = true)\n",
            " |-- candy_count: long (nullable = true)\n",
            " |-- egg: string (nullable = true)\n",
            " |-- height: string (nullable = true)\n",
            " |-- id: long (nullable = true)\n",
            " |-- img: string (nullable = true)\n",
            " |-- multipliers: array (nullable = true)\n",
            " |    |-- element: double (containsNull = true)\n",
            " |-- name: string (nullable = true)\n",
            " |-- next_name: array (nullable = true)\n",
            " |    |-- element: string (containsNull = true)\n",
            " |-- next_num: array (nullable = true)\n",
            " |    |-- element: string (containsNull = true)\n",
            " |-- num: string (nullable = true)\n",
            " |-- prev_name: array (nullable = true)\n",
            " |    |-- element: string (containsNull = true)\n",
            " |-- prev_num: array (nullable = true)\n",
            " |    |-- element: string (containsNull = true)\n",
            " |-- spawn_chance: double (nullable = true)\n",
            " |-- spawn_time: string (nullable = true)\n",
            " |-- type: array (nullable = true)\n",
            " |    |-- element: string (containsNull = true)\n",
            " |-- weaknesses: array (nullable = true)\n",
            " |    |-- element: string (containsNull = true)\n",
            " |-- weight: string (nullable = true)\n",
            "\n"
          ]
        }
      ]
    },
    {
      "cell_type": "code",
      "metadata": {
        "colab": {
          "base_uri": "https://localhost:8080/"
        },
        "id": "eUuwVf5tbvy3",
        "outputId": "cd7644fb-187c-4663-e758-fec74e85a591"
      },
      "source": [
        "df.select('avg_spawns','candy','candy_count','egg','height','id','img','multipliers','name',col('next_evolution.name').alias('next_name'), col('next_evolution.num').alias('next_num'),'num',col('prev_evolution.name').alias('prev_name'),col('prev_evolution.num').alias('prev_num'),'spawn_chance','spawn_time','type','weaknesses','weight').show(6)"
      ],
      "execution_count": 34,
      "outputs": [
        {
          "output_type": "stream",
          "name": "stdout",
          "text": [
            "+----------+----------------+-----------+-----------+------+---+--------------------+-----------+----------+--------------------+----------+---+--------------------+----------+------------+----------+---------------+--------------------+--------+\n",
            "|avg_spawns|           candy|candy_count|        egg|height| id|                 img|multipliers|      name|           next_name|  next_num|num|           prev_name|  prev_num|spawn_chance|spawn_time|           type|          weaknesses|  weight|\n",
            "+----------+----------------+-----------+-----------+------+---+--------------------+-----------+----------+--------------------+----------+---+--------------------+----------+------------+----------+---------------+--------------------+--------+\n",
            "|      69.0| Bulbasaur Candy|         25|       2 km|0.71 m|  1|http://www.serebi...|     [1.58]| Bulbasaur| [Ivysaur, Venusaur]|[002, 003]|001|                null|      null|        0.69|     20:00|[Grass, Poison]|[Fire, Ice, Flyin...|  6.9 kg|\n",
            "|       4.2| Bulbasaur Candy|        100|Not in Eggs|0.99 m|  2|http://www.serebi...| [1.2, 1.6]|   Ivysaur|          [Venusaur]|     [003]|002|         [Bulbasaur]|     [001]|       0.042|     07:00|[Grass, Poison]|[Fire, Ice, Flyin...| 13.0 kg|\n",
            "|       1.7| Bulbasaur Candy|       null|Not in Eggs|2.01 m|  3|http://www.serebi...|       null|  Venusaur|                null|      null|003|[Bulbasaur, Ivysaur]|[001, 002]|       0.017|     11:30|[Grass, Poison]|[Fire, Ice, Flyin...|100.0 kg|\n",
            "|      25.3|Charmander Candy|         25|       2 km|0.61 m|  4|http://www.serebi...|     [1.65]|Charmander|[Charmeleon, Char...|[005, 006]|004|                null|      null|       0.253|     08:45|         [Fire]|[Water, Ground, R...|  8.5 kg|\n",
            "|       1.2|Charmander Candy|        100|Not in Eggs|1.09 m|  5|http://www.serebi...|     [1.79]|Charmeleon|         [Charizard]|     [006]|005|        [Charmander]|     [004]|       0.012|     19:00|         [Fire]|[Water, Ground, R...| 19.0 kg|\n",
            "|      0.31|Charmander Candy|       null|Not in Eggs|1.70 m|  6|http://www.serebi...|       null| Charizard|                null|      null|006|[Charmander, Char...|[004, 005]|      0.0031|     13:34| [Fire, Flying]|[Water, Electric,...| 90.5 kg|\n",
            "+----------+----------------+-----------+-----------+------+---+--------------------+-----------+----------+--------------------+----------+---+--------------------+----------+------------+----------+---------------+--------------------+--------+\n",
            "only showing top 6 rows\n",
            "\n"
          ]
        }
      ]
    },
    {
      "cell_type": "code",
      "metadata": {
        "colab": {
          "base_uri": "https://localhost:8080/"
        },
        "id": "6QK3ZnWYdZqW",
        "outputId": "9289c41d-d2f4-41dc-9b3d-9a1318887723"
      },
      "source": [
        "from pyspark.sql.functions import explode\n",
        "df.select('id', 'name', explode('next_evolution').alias('next_evolution')).show(5)"
      ],
      "execution_count": 35,
      "outputs": [
        {
          "output_type": "stream",
          "name": "stdout",
          "text": [
            "+---+----------+-----------------+\n",
            "| id|      name|   next_evolution|\n",
            "+---+----------+-----------------+\n",
            "|  1| Bulbasaur|   {Ivysaur, 002}|\n",
            "|  1| Bulbasaur|  {Venusaur, 003}|\n",
            "|  2|   Ivysaur|  {Venusaur, 003}|\n",
            "|  4|Charmander|{Charmeleon, 005}|\n",
            "|  4|Charmander| {Charizard, 006}|\n",
            "+---+----------+-----------------+\n",
            "only showing top 5 rows\n",
            "\n"
          ]
        }
      ]
    },
    {
      "cell_type": "code",
      "metadata": {
        "colab": {
          "base_uri": "https://localhost:8080/"
        },
        "id": "UGxetBy4eNJp",
        "outputId": "ffa86786-bf12-4151-e362-a30696fa0181"
      },
      "source": [
        "from pyspark.sql.functions import explode_outer, col\n",
        "exp_out_df = df.select('id','name',explode_outer('next_evolution').alias('next_evolution'), 'prev_evolution')\\\n",
        ".select('id','name', 'next_evolution', explode_outer('prev_evolution').alias('prev_evolution'))\n",
        "exp_out_df.show(4)"
      ],
      "execution_count": 36,
      "outputs": [
        {
          "output_type": "stream",
          "name": "stdout",
          "text": [
            "+---+---------+---------------+----------------+\n",
            "| id|     name| next_evolution|  prev_evolution|\n",
            "+---+---------+---------------+----------------+\n",
            "|  1|Bulbasaur| {Ivysaur, 002}|            null|\n",
            "|  1|Bulbasaur|{Venusaur, 003}|            null|\n",
            "|  2|  Ivysaur|{Venusaur, 003}|{Bulbasaur, 001}|\n",
            "|  3| Venusaur|           null|{Bulbasaur, 001}|\n",
            "+---+---------+---------------+----------------+\n",
            "only showing top 4 rows\n",
            "\n"
          ]
        }
      ]
    },
    {
      "cell_type": "code",
      "metadata": {
        "id": "paCtZ1pKea8l",
        "colab": {
          "base_uri": "https://localhost:8080/"
        },
        "outputId": "8db7d26a-489b-461a-cec7-bcddd27d88e3"
      },
      "source": [
        "df.select('name','next_evolution').show(10,False)"
      ],
      "execution_count": 37,
      "outputs": [
        {
          "output_type": "stream",
          "name": "stdout",
          "text": [
            "+----------+-------------------------------------+\n",
            "|name      |next_evolution                       |\n",
            "+----------+-------------------------------------+\n",
            "|Bulbasaur |[{Ivysaur, 002}, {Venusaur, 003}]    |\n",
            "|Ivysaur   |[{Venusaur, 003}]                    |\n",
            "|Venusaur  |null                                 |\n",
            "|Charmander|[{Charmeleon, 005}, {Charizard, 006}]|\n",
            "|Charmeleon|[{Charizard, 006}]                   |\n",
            "|Charizard |null                                 |\n",
            "|Squirtle  |[{Wartortle, 008}, {Blastoise, 009}] |\n",
            "|Wartortle |[{Blastoise, 009}]                   |\n",
            "|Blastoise |null                                 |\n",
            "|Caterpie  |[{Metapod, 011}, {Butterfree, 012}]  |\n",
            "+----------+-------------------------------------+\n",
            "only showing top 10 rows\n",
            "\n"
          ]
        }
      ]
    },
    {
      "cell_type": "code",
      "metadata": {
        "id": "wlF_BQeL_Nk9",
        "colab": {
          "base_uri": "https://localhost:8080/"
        },
        "outputId": "69574da0-12c2-4f7b-cc37-74c6999a7ac0"
      },
      "source": [
        "from pyspark.sql.functions import explode\n",
        "df.select('id', 'name', explode('weaknesses').alias('weakness')).show(10)"
      ],
      "execution_count": 38,
      "outputs": [
        {
          "output_type": "stream",
          "name": "stdout",
          "text": [
            "+---+---------+--------+\n",
            "| id|     name|weakness|\n",
            "+---+---------+--------+\n",
            "|  1|Bulbasaur|    Fire|\n",
            "|  1|Bulbasaur|     Ice|\n",
            "|  1|Bulbasaur|  Flying|\n",
            "|  1|Bulbasaur| Psychic|\n",
            "|  2|  Ivysaur|    Fire|\n",
            "|  2|  Ivysaur|     Ice|\n",
            "|  2|  Ivysaur|  Flying|\n",
            "|  2|  Ivysaur| Psychic|\n",
            "|  3| Venusaur|    Fire|\n",
            "|  3| Venusaur|     Ice|\n",
            "+---+---------+--------+\n",
            "only showing top 10 rows\n",
            "\n"
          ]
        }
      ]
    },
    {
      "cell_type": "markdown",
      "metadata": {
        "id": "63DApOb7hCZT"
      },
      "source": [
        "plz find the belowe link for the refernce\n",
        "\n",
        "https://datanoon.com/blog/semi_structured_data_spark/"
      ]
    }
  ]
}