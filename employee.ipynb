{
 "cells": [
  {
   "cell_type": "code",
   "execution_count": 1,
   "id": "daee1ab3",
   "metadata": {},
   "outputs": [],
   "source": [
    "#pip install pyspark "
   ]
  },
  {
   "cell_type": "code",
   "execution_count": 1,
   "id": "8b357bc4",
   "metadata": {},
   "outputs": [],
   "source": [
    "import pyspark"
   ]
  },
  {
   "cell_type": "markdown",
   "id": "9814fecd",
   "metadata": {},
   "source": [
    "### creating the spark session"
   ]
  },
  {
   "cell_type": "code",
   "execution_count": null,
   "id": "cb10192b",
   "metadata": {},
   "outputs": [],
   "source": [
    "from pyspark.sql import SparkSession\n",
    "spark =SparkSession.builder.appName('firstprogram').getOrCreate()\n",
    "spark"
   ]
  },
  {
   "cell_type": "markdown",
   "id": "8ec4cb45",
   "metadata": {},
   "source": [
    "### reading the data from local system"
   ]
  },
  {
   "cell_type": "code",
   "execution_count": null,
   "id": "4d26cfb4",
   "metadata": {},
   "outputs": [],
   "source": [
    "df=spark.read.csv('C://Users/VarunNagendra/Desktop/emp.csv',header=True,inferSchema=True)"
   ]
  },
  {
   "cell_type": "code",
   "execution_count": null,
   "id": "8e169aa7",
   "metadata": {},
   "outputs": [],
   "source": [
    "df.show(5)"
   ]
  },
  {
   "cell_type": "code",
   "execution_count": null,
   "id": "845e5bda",
   "metadata": {},
   "outputs": [],
   "source": [
    "print(df.columns)"
   ]
  },
  {
   "cell_type": "code",
   "execution_count": null,
   "id": "b38475a4",
   "metadata": {},
   "outputs": [],
   "source": [
    "print(df.printSchema)"
   ]
  },
  {
   "cell_type": "code",
   "execution_count": null,
   "id": "f1e7f530",
   "metadata": {},
   "outputs": [],
   "source": [
    "print(df.dtypes)"
   ]
  },
  {
   "cell_type": "code",
   "execution_count": null,
   "id": "e0ce22ff",
   "metadata": {},
   "outputs": [],
   "source": [
    "df.describe().show()"
   ]
  },
  {
   "cell_type": "markdown",
   "id": "4915fe24",
   "metadata": {},
   "source": [
    "### adding new column"
   ]
  },
  {
   "cell_type": "code",
   "execution_count": 10,
   "id": "dacdc3ef",
   "metadata": {},
   "outputs": [
    {
     "name": "stdout",
     "output_type": "stream",
     "text": [
      "+------+-------+--------+----+----------+----+----+------+----------+\n",
      "| EMPNO| ENAME |     JOB| MGR|HIREDATE  | SAL|COMM|DEPTNO|New salary|\n",
      "+------+-------+--------+----+----------+----+----+------+----------+\n",
      "|  7698|  BLAKE| MANAGER|7839| 01-May-81|2850|null|    30|      4850|\n",
      "|  7782|  CLARK| MANAGER|7839| 09-Jun-81|2450|null|    10|      4450|\n",
      "|  7566|  JONES| MANAGER|7839| 02-Apr-81|2975|null|    20|      4975|\n",
      "|  7788|  SCOTT| ANALYST|7566| 19-Apr-87|3000|null|    20|      5000|\n",
      "|  7902|   FORD| ANALYST|7566| 03-Dec-81|3000|null|    20|      5000|\n",
      "|  7369|  SMITH|   CLERK|7902| 17-Dec-80| 800|null|    20|      2800|\n",
      "|  7499|  ALLEN|SALESMAN|7698| 20-Feb-81|1600| 300|    30|      3600|\n",
      "|  7521|   WARD|SALESMAN|7698| 22-Feb-81|1250| 500|    30|      3250|\n",
      "|  7654| MARTIN|SALESMAN|7698| 28-Sep-81|1250|1400|    30|      3250|\n",
      "|  7844| TURNER|SALESMAN|7698| 08-Sep-81|1500|   0|    30|      3500|\n",
      "|  7876|  ADAMS|   CLERK|7788| 23-May-87|1100|null|    20|      3100|\n",
      "+------+-------+--------+----+----------+----+----+------+----------+\n",
      "\n"
     ]
    }
   ],
   "source": [
    "df=df.withColumn('New salary',df['sal']+2000)\n",
    "df.show()"
   ]
  },
  {
   "cell_type": "markdown",
   "id": "e3d87f64",
   "metadata": {},
   "source": [
    "### deleting the columns"
   ]
  },
  {
   "cell_type": "code",
   "execution_count": 11,
   "id": "88725c3e",
   "metadata": {},
   "outputs": [
    {
     "name": "stdout",
     "output_type": "stream",
     "text": [
      "+------+-------+--------+----+----------+----+----+------+\n",
      "| EMPNO| ENAME |     JOB| MGR|HIREDATE  | SAL|COMM|DEPTNO|\n",
      "+------+-------+--------+----+----------+----+----+------+\n",
      "|  7698|  BLAKE| MANAGER|7839| 01-May-81|2850|null|    30|\n",
      "|  7782|  CLARK| MANAGER|7839| 09-Jun-81|2450|null|    10|\n",
      "|  7566|  JONES| MANAGER|7839| 02-Apr-81|2975|null|    20|\n",
      "|  7788|  SCOTT| ANALYST|7566| 19-Apr-87|3000|null|    20|\n",
      "|  7902|   FORD| ANALYST|7566| 03-Dec-81|3000|null|    20|\n",
      "|  7369|  SMITH|   CLERK|7902| 17-Dec-80| 800|null|    20|\n",
      "|  7499|  ALLEN|SALESMAN|7698| 20-Feb-81|1600| 300|    30|\n",
      "|  7521|   WARD|SALESMAN|7698| 22-Feb-81|1250| 500|    30|\n",
      "|  7654| MARTIN|SALESMAN|7698| 28-Sep-81|1250|1400|    30|\n",
      "|  7844| TURNER|SALESMAN|7698| 08-Sep-81|1500|   0|    30|\n",
      "|  7876|  ADAMS|   CLERK|7788| 23-May-87|1100|null|    20|\n",
      "+------+-------+--------+----+----------+----+----+------+\n",
      "\n"
     ]
    }
   ],
   "source": [
    "df=df.drop('New salary')\n",
    "df.show()"
   ]
  },
  {
   "cell_type": "markdown",
   "id": "79cd9712",
   "metadata": {},
   "source": [
    "### renaming the column names"
   ]
  },
  {
   "cell_type": "code",
   "execution_count": 12,
   "id": "fe604ce4",
   "metadata": {},
   "outputs": [
    {
     "name": "stdout",
     "output_type": "stream",
     "text": [
      "+------+-------+--------+----+----------+----+----+------+\n",
      "| EMPNO| ENAME |     JOB| MGR|HIREDATE  | SAL| COM|DEPTNO|\n",
      "+------+-------+--------+----+----------+----+----+------+\n",
      "|  7698|  BLAKE| MANAGER|7839| 01-May-81|2850|null|    30|\n",
      "|  7782|  CLARK| MANAGER|7839| 09-Jun-81|2450|null|    10|\n",
      "|  7566|  JONES| MANAGER|7839| 02-Apr-81|2975|null|    20|\n",
      "|  7788|  SCOTT| ANALYST|7566| 19-Apr-87|3000|null|    20|\n",
      "|  7902|   FORD| ANALYST|7566| 03-Dec-81|3000|null|    20|\n",
      "|  7369|  SMITH|   CLERK|7902| 17-Dec-80| 800|null|    20|\n",
      "|  7499|  ALLEN|SALESMAN|7698| 20-Feb-81|1600| 300|    30|\n",
      "|  7521|   WARD|SALESMAN|7698| 22-Feb-81|1250| 500|    30|\n",
      "|  7654| MARTIN|SALESMAN|7698| 28-Sep-81|1250|1400|    30|\n",
      "|  7844| TURNER|SALESMAN|7698| 08-Sep-81|1500|   0|    30|\n",
      "|  7876|  ADAMS|   CLERK|7788| 23-May-87|1100|null|    20|\n",
      "+------+-------+--------+----+----------+----+----+------+\n",
      "\n"
     ]
    }
   ],
   "source": [
    "df.withColumnRenamed('COMM','COM').show()"
   ]
  },
  {
   "cell_type": "markdown",
   "id": "70bf456c",
   "metadata": {},
   "source": [
    "### droping the \"NULL\" values"
   ]
  },
  {
   "cell_type": "code",
   "execution_count": 13,
   "id": "b806d991",
   "metadata": {},
   "outputs": [
    {
     "name": "stdout",
     "output_type": "stream",
     "text": [
      "+------+-------+--------+----+----------+----+----+------+\n",
      "| EMPNO| ENAME |     JOB| MGR|HIREDATE  | SAL|COMM|DEPTNO|\n",
      "+------+-------+--------+----+----------+----+----+------+\n",
      "|  7499|  ALLEN|SALESMAN|7698| 20-Feb-81|1600| 300|    30|\n",
      "|  7521|   WARD|SALESMAN|7698| 22-Feb-81|1250| 500|    30|\n",
      "|  7654| MARTIN|SALESMAN|7698| 28-Sep-81|1250|1400|    30|\n",
      "|  7844| TURNER|SALESMAN|7698| 08-Sep-81|1500|   0|    30|\n",
      "+------+-------+--------+----+----------+----+----+------+\n",
      "\n"
     ]
    }
   ],
   "source": [
    "df.na.drop().show()"
   ]
  },
  {
   "cell_type": "code",
   "execution_count": 14,
   "id": "b4e74e77",
   "metadata": {},
   "outputs": [
    {
     "name": "stdout",
     "output_type": "stream",
     "text": [
      "+------+-------+--------+----+----------+----+----+------+\n",
      "| EMPNO| ENAME |     JOB| MGR|HIREDATE  | SAL|COMM|DEPTNO|\n",
      "+------+-------+--------+----+----------+----+----+------+\n",
      "|  7698|  BLAKE| MANAGER|7839| 01-May-81|2850|null|    30|\n",
      "|  7782|  CLARK| MANAGER|7839| 09-Jun-81|2450|null|    10|\n",
      "|  7566|  JONES| MANAGER|7839| 02-Apr-81|2975|null|    20|\n",
      "|  7788|  SCOTT| ANALYST|7566| 19-Apr-87|3000|null|    20|\n",
      "|  7902|   FORD| ANALYST|7566| 03-Dec-81|3000|null|    20|\n",
      "|  7369|  SMITH|   CLERK|7902| 17-Dec-80| 800|null|    20|\n",
      "|  7499|  ALLEN|SALESMAN|7698| 20-Feb-81|1600| 300|    30|\n",
      "|  7521|   WARD|SALESMAN|7698| 22-Feb-81|1250| 500|    30|\n",
      "|  7654| MARTIN|SALESMAN|7698| 28-Sep-81|1250|1400|    30|\n",
      "|  7844| TURNER|SALESMAN|7698| 08-Sep-81|1500|   0|    30|\n",
      "|  7876|  ADAMS|   CLERK|7788| 23-May-87|1100|null|    20|\n",
      "+------+-------+--------+----+----------+----+----+------+\n",
      "\n"
     ]
    }
   ],
   "source": [
    "df.na.drop(how='all').show()"
   ]
  },
  {
   "cell_type": "code",
   "execution_count": 15,
   "id": "89538f24",
   "metadata": {},
   "outputs": [
    {
     "name": "stdout",
     "output_type": "stream",
     "text": [
      "+------+-------+--------+----+----------+----+----+------+\n",
      "| EMPNO| ENAME |     JOB| MGR|HIREDATE  | SAL|COMM|DEPTNO|\n",
      "+------+-------+--------+----+----------+----+----+------+\n",
      "|  7499|  ALLEN|SALESMAN|7698| 20-Feb-81|1600| 300|    30|\n",
      "|  7521|   WARD|SALESMAN|7698| 22-Feb-81|1250| 500|    30|\n",
      "|  7654| MARTIN|SALESMAN|7698| 28-Sep-81|1250|1400|    30|\n",
      "|  7844| TURNER|SALESMAN|7698| 08-Sep-81|1500|   0|    30|\n",
      "+------+-------+--------+----+----------+----+----+------+\n",
      "\n"
     ]
    }
   ],
   "source": [
    "df.na.drop(how='any').show()"
   ]
  },
  {
   "cell_type": "code",
   "execution_count": 16,
   "id": "0848a8a4",
   "metadata": {},
   "outputs": [
    {
     "name": "stdout",
     "output_type": "stream",
     "text": [
      "+------+-------+--------+----+----------+----+----+------+\n",
      "| EMPNO| ENAME |     JOB| MGR|HIREDATE  | SAL|COMM|DEPTNO|\n",
      "+------+-------+--------+----+----------+----+----+------+\n",
      "|  7698|  BLAKE| MANAGER|7839| 01-May-81|2850|null|    30|\n",
      "|  7782|  CLARK| MANAGER|7839| 09-Jun-81|2450|null|    10|\n",
      "|  7566|  JONES| MANAGER|7839| 02-Apr-81|2975|null|    20|\n",
      "|  7788|  SCOTT| ANALYST|7566| 19-Apr-87|3000|null|    20|\n",
      "|  7902|   FORD| ANALYST|7566| 03-Dec-81|3000|null|    20|\n",
      "|  7369|  SMITH|   CLERK|7902| 17-Dec-80| 800|null|    20|\n",
      "|  7499|  ALLEN|SALESMAN|7698| 20-Feb-81|1600| 300|    30|\n",
      "|  7521|   WARD|SALESMAN|7698| 22-Feb-81|1250| 500|    30|\n",
      "|  7654| MARTIN|SALESMAN|7698| 28-Sep-81|1250|1400|    30|\n",
      "|  7844| TURNER|SALESMAN|7698| 08-Sep-81|1500|   0|    30|\n",
      "|  7876|  ADAMS|   CLERK|7788| 23-May-87|1100|null|    20|\n",
      "+------+-------+--------+----+----------+----+----+------+\n",
      "\n"
     ]
    }
   ],
   "source": [
    "df.na.drop(how='any',thresh=2).show()"
   ]
  },
  {
   "cell_type": "code",
   "execution_count": 17,
   "id": "e00e84a2",
   "metadata": {},
   "outputs": [
    {
     "name": "stdout",
     "output_type": "stream",
     "text": [
      "+------+-------+--------+----+----------+----+----+------+\n",
      "| EMPNO| ENAME |     JOB| MGR|HIREDATE  | SAL|COMM|DEPTNO|\n",
      "+------+-------+--------+----+----------+----+----+------+\n",
      "|  7499|  ALLEN|SALESMAN|7698| 20-Feb-81|1600| 300|    30|\n",
      "|  7521|   WARD|SALESMAN|7698| 22-Feb-81|1250| 500|    30|\n",
      "|  7654| MARTIN|SALESMAN|7698| 28-Sep-81|1250|1400|    30|\n",
      "|  7844| TURNER|SALESMAN|7698| 08-Sep-81|1500|   0|    30|\n",
      "+------+-------+--------+----+----------+----+----+------+\n",
      "\n"
     ]
    }
   ],
   "source": [
    "df.na.drop(how='any',subset=['COMM']).show()"
   ]
  },
  {
   "cell_type": "markdown",
   "id": "3f1602b9",
   "metadata": {},
   "source": [
    "### filling the null values"
   ]
  },
  {
   "cell_type": "code",
   "execution_count": 18,
   "id": "053a2bad",
   "metadata": {},
   "outputs": [
    {
     "name": "stdout",
     "output_type": "stream",
     "text": [
      "+------+-------+--------+----+----------+----+----+------+\n",
      "| EMPNO| ENAME |     JOB| MGR|HIREDATE  | SAL|COMM|DEPTNO|\n",
      "+------+-------+--------+----+----------+----+----+------+\n",
      "|  7698|  BLAKE| MANAGER|7839| 01-May-81|2850|null|    30|\n",
      "|  7782|  CLARK| MANAGER|7839| 09-Jun-81|2450|null|    10|\n",
      "|  7566|  JONES| MANAGER|7839| 02-Apr-81|2975|null|    20|\n",
      "|  7788|  SCOTT| ANALYST|7566| 19-Apr-87|3000|null|    20|\n",
      "|  7902|   FORD| ANALYST|7566| 03-Dec-81|3000|null|    20|\n",
      "|  7369|  SMITH|   CLERK|7902| 17-Dec-80| 800|null|    20|\n",
      "|  7499|  ALLEN|SALESMAN|7698| 20-Feb-81|1600| 300|    30|\n",
      "|  7521|   WARD|SALESMAN|7698| 22-Feb-81|1250| 500|    30|\n",
      "|  7654| MARTIN|SALESMAN|7698| 28-Sep-81|1250|1400|    30|\n",
      "|  7844| TURNER|SALESMAN|7698| 08-Sep-81|1500|   0|    30|\n",
      "|  7876|  ADAMS|   CLERK|7788| 23-May-87|1100|null|    20|\n",
      "+------+-------+--------+----+----------+----+----+------+\n",
      "\n"
     ]
    }
   ],
   "source": [
    "df.na.fill('varun').show()"
   ]
  },
  {
   "cell_type": "code",
   "execution_count": 19,
   "id": "24693d65",
   "metadata": {},
   "outputs": [
    {
     "name": "stdout",
     "output_type": "stream",
     "text": [
      "+------+-------+--------+----+----------+----+----+------+\n",
      "| EMPNO| ENAME |     JOB| MGR|HIREDATE  | SAL|COMM|DEPTNO|\n",
      "+------+-------+--------+----+----------+----+----+------+\n",
      "|  7698|  BLAKE| MANAGER|7839| 01-May-81|2850|null|    30|\n",
      "|  7782|  CLARK| MANAGER|7839| 09-Jun-81|2450|null|    10|\n",
      "|  7566|  JONES| MANAGER|7839| 02-Apr-81|2975|null|    20|\n",
      "|  7788|  SCOTT| ANALYST|7566| 19-Apr-87|3000|null|    20|\n",
      "|  7902|   FORD| ANALYST|7566| 03-Dec-81|3000|null|    20|\n",
      "|  7369|  SMITH|   CLERK|7902| 17-Dec-80| 800|null|    20|\n",
      "|  7499|  ALLEN|SALESMAN|7698| 20-Feb-81|1600| 300|    30|\n",
      "|  7521|   WARD|SALESMAN|7698| 22-Feb-81|1250| 500|    30|\n",
      "|  7654| MARTIN|SALESMAN|7698| 28-Sep-81|1250|1400|    30|\n",
      "|  7844| TURNER|SALESMAN|7698| 08-Sep-81|1500|   0|    30|\n",
      "|  7876|  ADAMS|   CLERK|7788| 23-May-87|1100|null|    20|\n",
      "+------+-------+--------+----+----------+----+----+------+\n",
      "\n"
     ]
    }
   ],
   "source": [
    "df.na.fill('varun',['SAL','COMM']).show()"
   ]
  },
  {
   "cell_type": "code",
   "execution_count": 4,
   "id": "f2d71583",
   "metadata": {},
   "outputs": [],
   "source": [
    "from pyspark.ml.feature import Imputer"
   ]
  },
  {
   "cell_type": "code",
   "execution_count": 5,
   "id": "05a3b84c",
   "metadata": {},
   "outputs": [],
   "source": [
    "imputer=Imputer(inputCols=['COMM'],outputCols=[\"{}_imputed\".format(c) for c in ['COMM']]).setStrategy(\"mean\")"
   ]
  },
  {
   "cell_type": "code",
   "execution_count": 6,
   "id": "03eda09f",
   "metadata": {
    "scrolled": true
   },
   "outputs": [
    {
     "name": "stdout",
     "output_type": "stream",
     "text": [
      "+------+-------+--------+----+----------+----+----+------+------------+\n",
      "| EMPNO| ENAME |     JOB| MGR|HIREDATE  | SAL|COMM|DEPTNO|COMM_imputed|\n",
      "+------+-------+--------+----+----------+----+----+------+------------+\n",
      "|  7698|  BLAKE| MANAGER|7839| 01-May-81|2850|null|    30|         550|\n",
      "|  7782|  CLARK| MANAGER|7839| 09-Jun-81|2450|null|    10|         550|\n",
      "|  7566|  JONES| MANAGER|7839| 02-Apr-81|2975|null|    20|         550|\n",
      "|  7788|  SCOTT| ANALYST|7566| 19-Apr-87|3000|null|    20|         550|\n",
      "|  7902|   FORD| ANALYST|7566| 03-Dec-81|3000|null|    20|         550|\n",
      "|  7369|  SMITH|   CLERK|7902| 17-Dec-80| 800|null|    20|         550|\n",
      "|  7499|  ALLEN|SALESMAN|7698| 20-Feb-81|1600| 300|    30|         300|\n",
      "|  7521|   WARD|SALESMAN|7698| 22-Feb-81|1250| 500|    30|         500|\n",
      "|  7654| MARTIN|SALESMAN|7698| 28-Sep-81|1250|1400|    30|        1400|\n",
      "|  7844| TURNER|SALESMAN|7698| 08-Sep-81|1500|   0|    30|           0|\n",
      "|  7876|  ADAMS|   CLERK|7788| 23-May-87|1100|null|    20|         550|\n",
      "+------+-------+--------+----+----------+----+----+------+------------+\n",
      "\n"
     ]
    }
   ],
   "source": [
    "df=imputer.fit(df).transform(df)\n",
    "df.show()"
   ]
  },
  {
   "cell_type": "markdown",
   "id": "5f0d5241",
   "metadata": {},
   "source": [
    "### filter operations"
   ]
  },
  {
   "cell_type": "code",
   "execution_count": 23,
   "id": "1dc77536",
   "metadata": {},
   "outputs": [
    {
     "ename": "NameError",
     "evalue": "name 'sal' is not defined",
     "output_type": "error",
     "traceback": [
      "\u001b[1;31m---------------------------------------------------------------------------\u001b[0m",
      "\u001b[1;31mNameError\u001b[0m                                 Traceback (most recent call last)",
      "\u001b[1;32m<ipython-input-23-776a25f90f14>\u001b[0m in \u001b[0;36m<module>\u001b[1;34m\u001b[0m\n\u001b[1;32m----> 1\u001b[1;33m \u001b[0mdf\u001b[0m\u001b[1;33m.\u001b[0m\u001b[0mfilter\u001b[0m\u001b[1;33m(\u001b[0m\u001b[0msal\u001b[0m\u001b[1;33m<=\u001b[0m\u001b[1;36m1000\u001b[0m\u001b[1;33m)\u001b[0m\u001b[1;33m.\u001b[0m\u001b[0mshow\u001b[0m\u001b[1;33m(\u001b[0m\u001b[1;33m)\u001b[0m\u001b[1;33m\u001b[0m\u001b[1;33m\u001b[0m\u001b[0m\n\u001b[0m\u001b[0;32m      2\u001b[0m \u001b[0mdf\u001b[0m\u001b[1;33m.\u001b[0m\u001b[0mfilter\u001b[0m\u001b[1;33m(\u001b[0m\u001b[0msal\u001b[0m\u001b[1;33m<=\u001b[0m\u001b[1;36m1000\u001b[0m\u001b[1;33m)\u001b[0m\u001b[1;33m.\u001b[0m\u001b[0mselect\u001b[0m\u001b[1;33m(\u001b[0m\u001b[1;33m[\u001b[0m\u001b[1;34m'Name'\u001b[0m\u001b[1;33m,\u001b[0m\u001b[1;34m'Age'\u001b[0m\u001b[1;33m]\u001b[0m\u001b[1;33m)\u001b[0m\u001b[1;33m.\u001b[0m\u001b[0mshow\u001b[0m\u001b[1;33m(\u001b[0m\u001b[1;33m)\u001b[0m\u001b[1;33m\u001b[0m\u001b[1;33m\u001b[0m\u001b[0m\n\u001b[0;32m      3\u001b[0m \u001b[0mdf\u001b[0m\u001b[1;33m.\u001b[0m\u001b[0mfilter\u001b[0m\u001b[1;33m(\u001b[0m\u001b[0mdf\u001b[0m\u001b[1;33m[\u001b[0m\u001b[1;34m'sal'\u001b[0m\u001b[1;33m]\u001b[0m\u001b[1;33m<=\u001b[0m\u001b[1;36m1000\u001b[0m\u001b[1;33m)\u001b[0m\u001b[1;33m.\u001b[0m\u001b[0mshow\u001b[0m\u001b[1;33m(\u001b[0m\u001b[1;33m)\u001b[0m\u001b[1;33m\u001b[0m\u001b[1;33m\u001b[0m\u001b[0m\n\u001b[0;32m      4\u001b[0m \u001b[0mdf\u001b[0m\u001b[1;33m.\u001b[0m\u001b[0mfilter\u001b[0m\u001b[1;33m(\u001b[0m\u001b[1;33m(\u001b[0m\u001b[0mdf\u001b[0m\u001b[1;33m[\u001b[0m\u001b[1;34m'sal'\u001b[0m\u001b[1;33m]\u001b[0m\u001b[1;33m<=\u001b[0m\u001b[1;36m1000\u001b[0m \u001b[1;33m&\u001b[0m \u001b[0mdf\u001b[0m\u001b[1;33m[\u001b[0m\u001b[1;34m'age'\u001b[0m\u001b[1;33m]\u001b[0m\u001b[1;33m>=\u001b[0m\u001b[1;36m25\u001b[0m\u001b[1;33m)\u001b[0m\u001b[1;33m)\u001b[0m\u001b[1;33m.\u001b[0m\u001b[0mshow\u001b[0m\u001b[1;33m(\u001b[0m\u001b[1;33m)\u001b[0m\u001b[1;33m\u001b[0m\u001b[1;33m\u001b[0m\u001b[0m\n\u001b[0;32m      5\u001b[0m \u001b[0mdf\u001b[0m\u001b[1;33m.\u001b[0m\u001b[0mfilter\u001b[0m\u001b[1;33m(\u001b[0m\u001b[1;33m~\u001b[0m\u001b[1;33m(\u001b[0m\u001b[0mdf\u001b[0m\u001b[1;33m[\u001b[0m\u001b[1;34m'sal'\u001b[0m\u001b[1;33m]\u001b[0m\u001b[1;33m<=\u001b[0m\u001b[1;36m1000\u001b[0m\u001b[1;33m)\u001b[0m\u001b[1;33m)\u001b[0m\u001b[1;33m.\u001b[0m\u001b[0mshow\u001b[0m\u001b[1;33m(\u001b[0m\u001b[1;33m)\u001b[0m\u001b[1;33m\u001b[0m\u001b[1;33m\u001b[0m\u001b[0m\n",
      "\u001b[1;31mNameError\u001b[0m: name 'sal' is not defined"
     ]
    }
   ],
   "source": [
    "df.filter(sal<=1000).show()\n",
    "df.filter(sal<=1000).select(['Name','Age']).show()\n",
    "df.filter(df['sal']<=1000).show()\n",
    "df.filter((df['sal']<=1000 & df['age']>=25)).show()\n",
    "df.filter(~(df['sal']<=1000)).show()"
   ]
  },
  {
   "cell_type": "markdown",
   "id": "b7cb5058",
   "metadata": {},
   "source": [
    "### Group by & Aggregate Functions"
   ]
  },
  {
   "cell_type": "code",
   "execution_count": null,
   "id": "86e7e798",
   "metadata": {},
   "outputs": [],
   "source": [
    "df.agg({'SAL':'sum'}).show()"
   ]
  },
  {
   "cell_type": "code",
   "execution_count": null,
   "id": "79fbe8d1",
   "metadata": {},
   "outputs": [],
   "source": [
    "df.groupBy('DEPTNO').sum().show()"
   ]
  },
  {
   "cell_type": "code",
   "execution_count": null,
   "id": "3faedc59",
   "metadata": {},
   "outputs": [],
   "source": [
    "df.groupBy('DEPTNO').min().show()"
   ]
  },
  {
   "cell_type": "code",
   "execution_count": null,
   "id": "6b4c478f",
   "metadata": {},
   "outputs": [],
   "source": []
  }
 ],
 "metadata": {
  "kernelspec": {
   "display_name": "Python 3",
   "language": "python",
   "name": "python3"
  },
  "language_info": {
   "codemirror_mode": {
    "name": "ipython",
    "version": 3
   },
   "file_extension": ".py",
   "mimetype": "text/x-python",
   "name": "python",
   "nbconvert_exporter": "python",
   "pygments_lexer": "ipython3",
   "version": "3.8.8"
  }
 },
 "nbformat": 4,
 "nbformat_minor": 5
}
